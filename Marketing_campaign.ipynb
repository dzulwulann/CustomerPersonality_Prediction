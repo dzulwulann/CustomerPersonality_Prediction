{
  "nbformat": 4,
  "nbformat_minor": 0,
  "metadata": {
    "colab": {
      "provenance": [],
      "authorship_tag": "ABX9TyP1hqfIKA+bCk9pXNBE7Jib",
      "include_colab_link": true
    },
    "kernelspec": {
      "name": "python3",
      "display_name": "Python 3"
    },
    "language_info": {
      "name": "python"
    }
  },
  "cells": [
    {
      "cell_type": "markdown",
      "metadata": {
        "id": "view-in-github",
        "colab_type": "text"
      },
      "source": [
        "<a href=\"https://colab.research.google.com/github/dzulwulann/CustomerPersonality_Prediction/blob/main/Marketing_campaign.ipynb\" target=\"_parent\"><img src=\"https://colab.research.google.com/assets/colab-badge.svg\" alt=\"Open In Colab\"/></a>"
      ]
    },
    {
      "cell_type": "markdown",
      "source": [
        "# Importing libraries"
      ],
      "metadata": {
        "id": "TgU_JBfjPCSf"
      }
    },
    {
      "cell_type": "code",
      "execution_count": 1,
      "metadata": {
        "id": "jQSAof0COe0I"
      },
      "outputs": [],
      "source": [
        "import pandas as pd\n",
        "import numpy as np\n",
        "\n",
        "import warnings\n",
        "warnings.filterwarnings('ignore')"
      ]
    },
    {
      "cell_type": "code",
      "source": [
        "import seaborn as sns\n",
        "import matplotlib.pyplot as plt\n",
        "%matplotlib inline\n",
        "pd.options.display.max_rows = None\n",
        "pd.options.display.max_columns = None"
      ],
      "metadata": {
        "id": "mQkURDqNPJ8B"
      },
      "execution_count": 2,
      "outputs": []
    },
    {
      "cell_type": "code",
      "source": [
        "sns.set(rc={'figure.figsize':(20.7,8.27)})\n",
        "sns.set_style(\"whitegrid\")\n",
        "sns.color_palette(\"dark\")\n",
        "plt.style.use(\"fivethirtyeight\")"
      ],
      "metadata": {
        "id": "ywfSlD1CPL3o"
      },
      "execution_count": 3,
      "outputs": []
    },
    {
      "cell_type": "markdown",
      "source": [
        "# Importing Data"
      ],
      "metadata": {
        "id": "3XM2oBPuPZ9p"
      }
    },
    {
      "cell_type": "code",
      "source": [
        "from google.colab import drive\n",
        "drive.mount('/content/drive')"
      ],
      "metadata": {
        "colab": {
          "base_uri": "https://localhost:8080/"
        },
        "id": "1dY638cwPflY",
        "outputId": "dd9624a2-bc52-4d06-af35-20652ce91c94"
      },
      "execution_count": 4,
      "outputs": [
        {
          "output_type": "stream",
          "name": "stdout",
          "text": [
            "Mounted at /content/drive\n"
          ]
        }
      ]
    },
    {
      "cell_type": "code",
      "source": [
        "data = pd.read_csv('/content/drive/MyDrive/RAKAMIN/Predict Customer Personality to boost marketing campaign/marketing_campaign_data.csv')"
      ],
      "metadata": {
        "id": "AnLNLwKMPnXg"
      },
      "execution_count": 5,
      "outputs": []
    },
    {
      "cell_type": "code",
      "source": [
        "data.info()"
      ],
      "metadata": {
        "colab": {
          "base_uri": "https://localhost:8080/"
        },
        "id": "S648J9TKP7Ly",
        "outputId": "9e07c36e-5324-4700-b446-900829b6e3cd"
      },
      "execution_count": 6,
      "outputs": [
        {
          "output_type": "stream",
          "name": "stdout",
          "text": [
            "<class 'pandas.core.frame.DataFrame'>\n",
            "RangeIndex: 2240 entries, 0 to 2239\n",
            "Data columns (total 30 columns):\n",
            " #   Column               Non-Null Count  Dtype  \n",
            "---  ------               --------------  -----  \n",
            " 0   Unnamed: 0           2240 non-null   int64  \n",
            " 1   ID                   2240 non-null   int64  \n",
            " 2   Year_Birth           2240 non-null   int64  \n",
            " 3   Education            2240 non-null   object \n",
            " 4   Marital_Status       2240 non-null   object \n",
            " 5   Income               2216 non-null   float64\n",
            " 6   Kidhome              2240 non-null   int64  \n",
            " 7   Teenhome             2240 non-null   int64  \n",
            " 8   Dt_Customer          2240 non-null   object \n",
            " 9   Recency              2240 non-null   int64  \n",
            " 10  MntCoke              2240 non-null   int64  \n",
            " 11  MntFruits            2240 non-null   int64  \n",
            " 12  MntMeatProducts      2240 non-null   int64  \n",
            " 13  MntFishProducts      2240 non-null   int64  \n",
            " 14  MntSweetProducts     2240 non-null   int64  \n",
            " 15  MntGoldProds         2240 non-null   int64  \n",
            " 16  NumDealsPurchases    2240 non-null   int64  \n",
            " 17  NumWebPurchases      2240 non-null   int64  \n",
            " 18  NumCatalogPurchases  2240 non-null   int64  \n",
            " 19  NumStorePurchases    2240 non-null   int64  \n",
            " 20  NumWebVisitsMonth    2240 non-null   int64  \n",
            " 21  AcceptedCmp3         2240 non-null   int64  \n",
            " 22  AcceptedCmp4         2240 non-null   int64  \n",
            " 23  AcceptedCmp5         2240 non-null   int64  \n",
            " 24  AcceptedCmp1         2240 non-null   int64  \n",
            " 25  AcceptedCmp2         2240 non-null   int64  \n",
            " 26  Complain             2240 non-null   int64  \n",
            " 27  Z_CostContact        2240 non-null   int64  \n",
            " 28  Z_Revenue            2240 non-null   int64  \n",
            " 29  Response             2240 non-null   int64  \n",
            "dtypes: float64(1), int64(26), object(3)\n",
            "memory usage: 525.1+ KB\n"
          ]
        }
      ]
    },
    {
      "cell_type": "code",
      "source": [
        "data.head()"
      ],
      "metadata": {
        "colab": {
          "base_uri": "https://localhost:8080/",
          "height": 244
        },
        "id": "hRK5VPxqP-hQ",
        "outputId": "d3c6ccf6-b40b-48e1-c889-aea1ded5b4e5"
      },
      "execution_count": null,
      "outputs": [
        {
          "output_type": "execute_result",
          "data": {
            "text/plain": [
              "   Unnamed: 0    ID  Year_Birth Education Marital_Status      Income  Kidhome  \\\n",
              "0           0  5524        1957        S1         Lajang  58138000.0        0   \n",
              "1           1  2174        1954        S1         Lajang  46344000.0        1   \n",
              "2           2  4141        1965        S1    Bertunangan  71613000.0        0   \n",
              "3           3  6182        1984        S1    Bertunangan  26646000.0        1   \n",
              "4           4  5324        1981        S3        Menikah  58293000.0        1   \n",
              "\n",
              "   Teenhome Dt_Customer  Recency  MntCoke  MntFruits  MntMeatProducts  \\\n",
              "0         0  04-09-2012       58   635000      88000           546000   \n",
              "1         1  08-03-2014       38    11000       1000             6000   \n",
              "2         0  21-08-2013       26   426000      49000           127000   \n",
              "3         0  10-02-2014       26    11000       4000            20000   \n",
              "4         0  19-01-2014       94   173000      43000           118000   \n",
              "\n",
              "   MntFishProducts  MntSweetProducts  MntGoldProds  NumDealsPurchases  \\\n",
              "0           172000             88000         88000                  3   \n",
              "1             2000              1000          6000                  2   \n",
              "2           111000             21000         42000                  1   \n",
              "3            10000              3000          5000                  2   \n",
              "4            46000             27000         15000                  5   \n",
              "\n",
              "   NumWebPurchases  NumCatalogPurchases  NumStorePurchases  NumWebVisitsMonth  \\\n",
              "0                8                   10                  4                  7   \n",
              "1                1                    1                  2                  5   \n",
              "2                8                    2                 10                  4   \n",
              "3                2                    0                  4                  6   \n",
              "4                5                    3                  6                  5   \n",
              "\n",
              "   AcceptedCmp3  AcceptedCmp4  AcceptedCmp5  AcceptedCmp1  AcceptedCmp2  \\\n",
              "0             0             0             0             0             0   \n",
              "1             0             0             0             0             0   \n",
              "2             0             0             0             0             0   \n",
              "3             0             0             0             0             0   \n",
              "4             0             0             0             0             0   \n",
              "\n",
              "   Complain  Z_CostContact  Z_Revenue  Response  \n",
              "0         0              3         11         1  \n",
              "1         0              3         11         0  \n",
              "2         0              3         11         0  \n",
              "3         0              3         11         0  \n",
              "4         0              3         11         0  "
            ],
            "text/html": [
              "\n",
              "  <div id=\"df-a908df09-4761-4996-9a9c-f126c1d59e3d\" class=\"colab-df-container\">\n",
              "    <div>\n",
              "<style scoped>\n",
              "    .dataframe tbody tr th:only-of-type {\n",
              "        vertical-align: middle;\n",
              "    }\n",
              "\n",
              "    .dataframe tbody tr th {\n",
              "        vertical-align: top;\n",
              "    }\n",
              "\n",
              "    .dataframe thead th {\n",
              "        text-align: right;\n",
              "    }\n",
              "</style>\n",
              "<table border=\"1\" class=\"dataframe\">\n",
              "  <thead>\n",
              "    <tr style=\"text-align: right;\">\n",
              "      <th></th>\n",
              "      <th>Unnamed: 0</th>\n",
              "      <th>ID</th>\n",
              "      <th>Year_Birth</th>\n",
              "      <th>Education</th>\n",
              "      <th>Marital_Status</th>\n",
              "      <th>Income</th>\n",
              "      <th>Kidhome</th>\n",
              "      <th>Teenhome</th>\n",
              "      <th>Dt_Customer</th>\n",
              "      <th>Recency</th>\n",
              "      <th>MntCoke</th>\n",
              "      <th>MntFruits</th>\n",
              "      <th>MntMeatProducts</th>\n",
              "      <th>MntFishProducts</th>\n",
              "      <th>MntSweetProducts</th>\n",
              "      <th>MntGoldProds</th>\n",
              "      <th>NumDealsPurchases</th>\n",
              "      <th>NumWebPurchases</th>\n",
              "      <th>NumCatalogPurchases</th>\n",
              "      <th>NumStorePurchases</th>\n",
              "      <th>NumWebVisitsMonth</th>\n",
              "      <th>AcceptedCmp3</th>\n",
              "      <th>AcceptedCmp4</th>\n",
              "      <th>AcceptedCmp5</th>\n",
              "      <th>AcceptedCmp1</th>\n",
              "      <th>AcceptedCmp2</th>\n",
              "      <th>Complain</th>\n",
              "      <th>Z_CostContact</th>\n",
              "      <th>Z_Revenue</th>\n",
              "      <th>Response</th>\n",
              "    </tr>\n",
              "  </thead>\n",
              "  <tbody>\n",
              "    <tr>\n",
              "      <th>0</th>\n",
              "      <td>0</td>\n",
              "      <td>5524</td>\n",
              "      <td>1957</td>\n",
              "      <td>S1</td>\n",
              "      <td>Lajang</td>\n",
              "      <td>58138000.0</td>\n",
              "      <td>0</td>\n",
              "      <td>0</td>\n",
              "      <td>04-09-2012</td>\n",
              "      <td>58</td>\n",
              "      <td>635000</td>\n",
              "      <td>88000</td>\n",
              "      <td>546000</td>\n",
              "      <td>172000</td>\n",
              "      <td>88000</td>\n",
              "      <td>88000</td>\n",
              "      <td>3</td>\n",
              "      <td>8</td>\n",
              "      <td>10</td>\n",
              "      <td>4</td>\n",
              "      <td>7</td>\n",
              "      <td>0</td>\n",
              "      <td>0</td>\n",
              "      <td>0</td>\n",
              "      <td>0</td>\n",
              "      <td>0</td>\n",
              "      <td>0</td>\n",
              "      <td>3</td>\n",
              "      <td>11</td>\n",
              "      <td>1</td>\n",
              "    </tr>\n",
              "    <tr>\n",
              "      <th>1</th>\n",
              "      <td>1</td>\n",
              "      <td>2174</td>\n",
              "      <td>1954</td>\n",
              "      <td>S1</td>\n",
              "      <td>Lajang</td>\n",
              "      <td>46344000.0</td>\n",
              "      <td>1</td>\n",
              "      <td>1</td>\n",
              "      <td>08-03-2014</td>\n",
              "      <td>38</td>\n",
              "      <td>11000</td>\n",
              "      <td>1000</td>\n",
              "      <td>6000</td>\n",
              "      <td>2000</td>\n",
              "      <td>1000</td>\n",
              "      <td>6000</td>\n",
              "      <td>2</td>\n",
              "      <td>1</td>\n",
              "      <td>1</td>\n",
              "      <td>2</td>\n",
              "      <td>5</td>\n",
              "      <td>0</td>\n",
              "      <td>0</td>\n",
              "      <td>0</td>\n",
              "      <td>0</td>\n",
              "      <td>0</td>\n",
              "      <td>0</td>\n",
              "      <td>3</td>\n",
              "      <td>11</td>\n",
              "      <td>0</td>\n",
              "    </tr>\n",
              "    <tr>\n",
              "      <th>2</th>\n",
              "      <td>2</td>\n",
              "      <td>4141</td>\n",
              "      <td>1965</td>\n",
              "      <td>S1</td>\n",
              "      <td>Bertunangan</td>\n",
              "      <td>71613000.0</td>\n",
              "      <td>0</td>\n",
              "      <td>0</td>\n",
              "      <td>21-08-2013</td>\n",
              "      <td>26</td>\n",
              "      <td>426000</td>\n",
              "      <td>49000</td>\n",
              "      <td>127000</td>\n",
              "      <td>111000</td>\n",
              "      <td>21000</td>\n",
              "      <td>42000</td>\n",
              "      <td>1</td>\n",
              "      <td>8</td>\n",
              "      <td>2</td>\n",
              "      <td>10</td>\n",
              "      <td>4</td>\n",
              "      <td>0</td>\n",
              "      <td>0</td>\n",
              "      <td>0</td>\n",
              "      <td>0</td>\n",
              "      <td>0</td>\n",
              "      <td>0</td>\n",
              "      <td>3</td>\n",
              "      <td>11</td>\n",
              "      <td>0</td>\n",
              "    </tr>\n",
              "    <tr>\n",
              "      <th>3</th>\n",
              "      <td>3</td>\n",
              "      <td>6182</td>\n",
              "      <td>1984</td>\n",
              "      <td>S1</td>\n",
              "      <td>Bertunangan</td>\n",
              "      <td>26646000.0</td>\n",
              "      <td>1</td>\n",
              "      <td>0</td>\n",
              "      <td>10-02-2014</td>\n",
              "      <td>26</td>\n",
              "      <td>11000</td>\n",
              "      <td>4000</td>\n",
              "      <td>20000</td>\n",
              "      <td>10000</td>\n",
              "      <td>3000</td>\n",
              "      <td>5000</td>\n",
              "      <td>2</td>\n",
              "      <td>2</td>\n",
              "      <td>0</td>\n",
              "      <td>4</td>\n",
              "      <td>6</td>\n",
              "      <td>0</td>\n",
              "      <td>0</td>\n",
              "      <td>0</td>\n",
              "      <td>0</td>\n",
              "      <td>0</td>\n",
              "      <td>0</td>\n",
              "      <td>3</td>\n",
              "      <td>11</td>\n",
              "      <td>0</td>\n",
              "    </tr>\n",
              "    <tr>\n",
              "      <th>4</th>\n",
              "      <td>4</td>\n",
              "      <td>5324</td>\n",
              "      <td>1981</td>\n",
              "      <td>S3</td>\n",
              "      <td>Menikah</td>\n",
              "      <td>58293000.0</td>\n",
              "      <td>1</td>\n",
              "      <td>0</td>\n",
              "      <td>19-01-2014</td>\n",
              "      <td>94</td>\n",
              "      <td>173000</td>\n",
              "      <td>43000</td>\n",
              "      <td>118000</td>\n",
              "      <td>46000</td>\n",
              "      <td>27000</td>\n",
              "      <td>15000</td>\n",
              "      <td>5</td>\n",
              "      <td>5</td>\n",
              "      <td>3</td>\n",
              "      <td>6</td>\n",
              "      <td>5</td>\n",
              "      <td>0</td>\n",
              "      <td>0</td>\n",
              "      <td>0</td>\n",
              "      <td>0</td>\n",
              "      <td>0</td>\n",
              "      <td>0</td>\n",
              "      <td>3</td>\n",
              "      <td>11</td>\n",
              "      <td>0</td>\n",
              "    </tr>\n",
              "  </tbody>\n",
              "</table>\n",
              "</div>\n",
              "    <div class=\"colab-df-buttons\">\n",
              "\n",
              "  <div class=\"colab-df-container\">\n",
              "    <button class=\"colab-df-convert\" onclick=\"convertToInteractive('df-a908df09-4761-4996-9a9c-f126c1d59e3d')\"\n",
              "            title=\"Convert this dataframe to an interactive table.\"\n",
              "            style=\"display:none;\">\n",
              "\n",
              "  <svg xmlns=\"http://www.w3.org/2000/svg\" height=\"24px\" viewBox=\"0 -960 960 960\">\n",
              "    <path d=\"M120-120v-720h720v720H120Zm60-500h600v-160H180v160Zm220 220h160v-160H400v160Zm0 220h160v-160H400v160ZM180-400h160v-160H180v160Zm440 0h160v-160H620v160ZM180-180h160v-160H180v160Zm440 0h160v-160H620v160Z\"/>\n",
              "  </svg>\n",
              "    </button>\n",
              "\n",
              "  <style>\n",
              "    .colab-df-container {\n",
              "      display:flex;\n",
              "      gap: 12px;\n",
              "    }\n",
              "\n",
              "    .colab-df-convert {\n",
              "      background-color: #E8F0FE;\n",
              "      border: none;\n",
              "      border-radius: 50%;\n",
              "      cursor: pointer;\n",
              "      display: none;\n",
              "      fill: #1967D2;\n",
              "      height: 32px;\n",
              "      padding: 0 0 0 0;\n",
              "      width: 32px;\n",
              "    }\n",
              "\n",
              "    .colab-df-convert:hover {\n",
              "      background-color: #E2EBFA;\n",
              "      box-shadow: 0px 1px 2px rgba(60, 64, 67, 0.3), 0px 1px 3px 1px rgba(60, 64, 67, 0.15);\n",
              "      fill: #174EA6;\n",
              "    }\n",
              "\n",
              "    .colab-df-buttons div {\n",
              "      margin-bottom: 4px;\n",
              "    }\n",
              "\n",
              "    [theme=dark] .colab-df-convert {\n",
              "      background-color: #3B4455;\n",
              "      fill: #D2E3FC;\n",
              "    }\n",
              "\n",
              "    [theme=dark] .colab-df-convert:hover {\n",
              "      background-color: #434B5C;\n",
              "      box-shadow: 0px 1px 3px 1px rgba(0, 0, 0, 0.15);\n",
              "      filter: drop-shadow(0px 1px 2px rgba(0, 0, 0, 0.3));\n",
              "      fill: #FFFFFF;\n",
              "    }\n",
              "  </style>\n",
              "\n",
              "    <script>\n",
              "      const buttonEl =\n",
              "        document.querySelector('#df-a908df09-4761-4996-9a9c-f126c1d59e3d button.colab-df-convert');\n",
              "      buttonEl.style.display =\n",
              "        google.colab.kernel.accessAllowed ? 'block' : 'none';\n",
              "\n",
              "      async function convertToInteractive(key) {\n",
              "        const element = document.querySelector('#df-a908df09-4761-4996-9a9c-f126c1d59e3d');\n",
              "        const dataTable =\n",
              "          await google.colab.kernel.invokeFunction('convertToInteractive',\n",
              "                                                    [key], {});\n",
              "        if (!dataTable) return;\n",
              "\n",
              "        const docLinkHtml = 'Like what you see? Visit the ' +\n",
              "          '<a target=\"_blank\" href=https://colab.research.google.com/notebooks/data_table.ipynb>data table notebook</a>'\n",
              "          + ' to learn more about interactive tables.';\n",
              "        element.innerHTML = '';\n",
              "        dataTable['output_type'] = 'display_data';\n",
              "        await google.colab.output.renderOutput(dataTable, element);\n",
              "        const docLink = document.createElement('div');\n",
              "        docLink.innerHTML = docLinkHtml;\n",
              "        element.appendChild(docLink);\n",
              "      }\n",
              "    </script>\n",
              "  </div>\n",
              "\n",
              "\n",
              "<div id=\"df-bd01e996-7126-421c-b7c9-717f9774ffd4\">\n",
              "  <button class=\"colab-df-quickchart\" onclick=\"quickchart('df-bd01e996-7126-421c-b7c9-717f9774ffd4')\"\n",
              "            title=\"Suggest charts\"\n",
              "            style=\"display:none;\">\n",
              "\n",
              "<svg xmlns=\"http://www.w3.org/2000/svg\" height=\"24px\"viewBox=\"0 0 24 24\"\n",
              "     width=\"24px\">\n",
              "    <g>\n",
              "        <path d=\"M19 3H5c-1.1 0-2 .9-2 2v14c0 1.1.9 2 2 2h14c1.1 0 2-.9 2-2V5c0-1.1-.9-2-2-2zM9 17H7v-7h2v7zm4 0h-2V7h2v10zm4 0h-2v-4h2v4z\"/>\n",
              "    </g>\n",
              "</svg>\n",
              "  </button>\n",
              "\n",
              "<style>\n",
              "  .colab-df-quickchart {\n",
              "      --bg-color: #E8F0FE;\n",
              "      --fill-color: #1967D2;\n",
              "      --hover-bg-color: #E2EBFA;\n",
              "      --hover-fill-color: #174EA6;\n",
              "      --disabled-fill-color: #AAA;\n",
              "      --disabled-bg-color: #DDD;\n",
              "  }\n",
              "\n",
              "  [theme=dark] .colab-df-quickchart {\n",
              "      --bg-color: #3B4455;\n",
              "      --fill-color: #D2E3FC;\n",
              "      --hover-bg-color: #434B5C;\n",
              "      --hover-fill-color: #FFFFFF;\n",
              "      --disabled-bg-color: #3B4455;\n",
              "      --disabled-fill-color: #666;\n",
              "  }\n",
              "\n",
              "  .colab-df-quickchart {\n",
              "    background-color: var(--bg-color);\n",
              "    border: none;\n",
              "    border-radius: 50%;\n",
              "    cursor: pointer;\n",
              "    display: none;\n",
              "    fill: var(--fill-color);\n",
              "    height: 32px;\n",
              "    padding: 0;\n",
              "    width: 32px;\n",
              "  }\n",
              "\n",
              "  .colab-df-quickchart:hover {\n",
              "    background-color: var(--hover-bg-color);\n",
              "    box-shadow: 0 1px 2px rgba(60, 64, 67, 0.3), 0 1px 3px 1px rgba(60, 64, 67, 0.15);\n",
              "    fill: var(--button-hover-fill-color);\n",
              "  }\n",
              "\n",
              "  .colab-df-quickchart-complete:disabled,\n",
              "  .colab-df-quickchart-complete:disabled:hover {\n",
              "    background-color: var(--disabled-bg-color);\n",
              "    fill: var(--disabled-fill-color);\n",
              "    box-shadow: none;\n",
              "  }\n",
              "\n",
              "  .colab-df-spinner {\n",
              "    border: 2px solid var(--fill-color);\n",
              "    border-color: transparent;\n",
              "    border-bottom-color: var(--fill-color);\n",
              "    animation:\n",
              "      spin 1s steps(1) infinite;\n",
              "  }\n",
              "\n",
              "  @keyframes spin {\n",
              "    0% {\n",
              "      border-color: transparent;\n",
              "      border-bottom-color: var(--fill-color);\n",
              "      border-left-color: var(--fill-color);\n",
              "    }\n",
              "    20% {\n",
              "      border-color: transparent;\n",
              "      border-left-color: var(--fill-color);\n",
              "      border-top-color: var(--fill-color);\n",
              "    }\n",
              "    30% {\n",
              "      border-color: transparent;\n",
              "      border-left-color: var(--fill-color);\n",
              "      border-top-color: var(--fill-color);\n",
              "      border-right-color: var(--fill-color);\n",
              "    }\n",
              "    40% {\n",
              "      border-color: transparent;\n",
              "      border-right-color: var(--fill-color);\n",
              "      border-top-color: var(--fill-color);\n",
              "    }\n",
              "    60% {\n",
              "      border-color: transparent;\n",
              "      border-right-color: var(--fill-color);\n",
              "    }\n",
              "    80% {\n",
              "      border-color: transparent;\n",
              "      border-right-color: var(--fill-color);\n",
              "      border-bottom-color: var(--fill-color);\n",
              "    }\n",
              "    90% {\n",
              "      border-color: transparent;\n",
              "      border-bottom-color: var(--fill-color);\n",
              "    }\n",
              "  }\n",
              "</style>\n",
              "\n",
              "  <script>\n",
              "    async function quickchart(key) {\n",
              "      const quickchartButtonEl =\n",
              "        document.querySelector('#' + key + ' button');\n",
              "      quickchartButtonEl.disabled = true;  // To prevent multiple clicks.\n",
              "      quickchartButtonEl.classList.add('colab-df-spinner');\n",
              "      try {\n",
              "        const charts = await google.colab.kernel.invokeFunction(\n",
              "            'suggestCharts', [key], {});\n",
              "      } catch (error) {\n",
              "        console.error('Error during call to suggestCharts:', error);\n",
              "      }\n",
              "      quickchartButtonEl.classList.remove('colab-df-spinner');\n",
              "      quickchartButtonEl.classList.add('colab-df-quickchart-complete');\n",
              "    }\n",
              "    (() => {\n",
              "      let quickchartButtonEl =\n",
              "        document.querySelector('#df-bd01e996-7126-421c-b7c9-717f9774ffd4 button');\n",
              "      quickchartButtonEl.style.display =\n",
              "        google.colab.kernel.accessAllowed ? 'block' : 'none';\n",
              "    })();\n",
              "  </script>\n",
              "</div>\n",
              "    </div>\n",
              "  </div>\n"
            ],
            "application/vnd.google.colaboratory.intrinsic+json": {
              "type": "dataframe",
              "variable_name": "data"
            }
          },
          "metadata": {},
          "execution_count": 7
        }
      ]
    },
    {
      "cell_type": "markdown",
      "source": [
        "### Calculating Converstion Rate"
      ],
      "metadata": {
        "id": "vFaJv5acQWZg"
      }
    },
    {
      "cell_type": "code",
      "source": [
        "#calculating total customer\n",
        "total_customer = data.shape[0]"
      ],
      "metadata": {
        "id": "3qf1lllUQUkH"
      },
      "execution_count": 7,
      "outputs": []
    },
    {
      "cell_type": "code",
      "source": [
        "#calcualting respons customer\n",
        "total_conversions = data[data['Response']==1].shape[0]"
      ],
      "metadata": {
        "id": "p3PDo57YQmIP"
      },
      "execution_count": 8,
      "outputs": []
    },
    {
      "cell_type": "code",
      "source": [
        "#converstion rate\n",
        "conversion_rate = (total_conversions/total_customer)*100\n",
        "\n",
        "print(f\"Conversion Rate: {conversion_rate:.2f}%\")"
      ],
      "metadata": {
        "colab": {
          "base_uri": "https://localhost:8080/"
        },
        "id": "JpmfvhEoQ07N",
        "outputId": "acffa69d-eea0-4f92-dd80-b082ea89ac45"
      },
      "execution_count": 9,
      "outputs": [
        {
          "output_type": "stream",
          "name": "stdout",
          "text": [
            "Conversion Rate: 14.91%\n"
          ]
        }
      ]
    },
    {
      "cell_type": "markdown",
      "source": [
        "From the data we calculated the conversion rate is **14.91%**"
      ],
      "metadata": {
        "id": "ZDPfA929RQ9C"
      }
    },
    {
      "cell_type": "markdown",
      "source": [
        "# Age vs Conversion Rate"
      ],
      "metadata": {
        "id": "fi5s89uaYZCW"
      }
    },
    {
      "cell_type": "code",
      "source": [
        "#transform year_birth to age\n",
        "data['age'] = 2024 - data['Year_Birth']"
      ],
      "metadata": {
        "id": "w2U_03gpRcud"
      },
      "execution_count": 10,
      "outputs": []
    },
    {
      "cell_type": "code",
      "source": [
        "data['age'].describe()"
      ],
      "metadata": {
        "colab": {
          "base_uri": "https://localhost:8080/"
        },
        "id": "oRuWT7rCTCqD",
        "outputId": "199568a7-1cd7-4811-d7bd-9a7845c158e8"
      },
      "execution_count": 11,
      "outputs": [
        {
          "output_type": "execute_result",
          "data": {
            "text/plain": [
              "count    2240.000000\n",
              "mean       55.194196\n",
              "std        11.984069\n",
              "min        28.000000\n",
              "25%        47.000000\n",
              "50%        54.000000\n",
              "75%        65.000000\n",
              "max       131.000000\n",
              "Name: age, dtype: float64"
            ]
          },
          "metadata": {},
          "execution_count": 11
        }
      ]
    },
    {
      "cell_type": "code",
      "source": [
        "conditions = [\n",
        "    data['age'] < 40,\n",
        "    (data['age'] >= 40) & (data['age'] < 65),\n",
        "    data['age'] >=65\n",
        "]\n",
        "\n",
        "# Define the corresponding labels for each group\n",
        "labels = ['Young Adult', 'middle-aged', 'Elder']"
      ],
      "metadata": {
        "id": "YlnOUpd6UQkO"
      },
      "execution_count": 12,
      "outputs": []
    },
    {
      "cell_type": "code",
      "source": [
        "# Create the age group column\n",
        "data['age_group'] = np.select(conditions, labels, default='Other')"
      ],
      "metadata": {
        "id": "kKrQhW7uXt8p"
      },
      "execution_count": 13,
      "outputs": []
    },
    {
      "cell_type": "code",
      "source": [
        "conversion_rates = data.groupby('age_group')['Response'].mean() * 100"
      ],
      "metadata": {
        "id": "q8p_gi1Ga1c-"
      },
      "execution_count": 14,
      "outputs": []
    },
    {
      "cell_type": "code",
      "source": [
        "data['age_group'].isnull().sum()"
      ],
      "metadata": {
        "colab": {
          "base_uri": "https://localhost:8080/"
        },
        "id": "UCo33EFGvp4K",
        "outputId": "4930d882-5cb4-40b8-fb3e-8394b7ea96df"
      },
      "execution_count": 45,
      "outputs": [
        {
          "output_type": "execute_result",
          "data": {
            "text/plain": [
              "0"
            ]
          },
          "metadata": {},
          "execution_count": 45
        }
      ]
    },
    {
      "cell_type": "code",
      "source": [
        "conversion_rates = conversion_rates.reset_index()\n",
        "conversion_rates"
      ],
      "metadata": {
        "colab": {
          "base_uri": "https://localhost:8080/",
          "height": 144
        },
        "id": "0Y_H0fMhbOvw",
        "outputId": "78884c6f-4b3d-47e7-9f39-5dacde8d9ea3"
      },
      "execution_count": 15,
      "outputs": [
        {
          "output_type": "execute_result",
          "data": {
            "text/plain": [
              "     age_group   Response\n",
              "0        Elder  14.912281\n",
              "1  Young Adult  16.289593\n",
              "2  middle-aged  14.699793"
            ],
            "text/html": [
              "\n",
              "  <div id=\"df-65f56268-fd57-4d29-9a02-d4bdb6d20307\" class=\"colab-df-container\">\n",
              "    <div>\n",
              "<style scoped>\n",
              "    .dataframe tbody tr th:only-of-type {\n",
              "        vertical-align: middle;\n",
              "    }\n",
              "\n",
              "    .dataframe tbody tr th {\n",
              "        vertical-align: top;\n",
              "    }\n",
              "\n",
              "    .dataframe thead th {\n",
              "        text-align: right;\n",
              "    }\n",
              "</style>\n",
              "<table border=\"1\" class=\"dataframe\">\n",
              "  <thead>\n",
              "    <tr style=\"text-align: right;\">\n",
              "      <th></th>\n",
              "      <th>age_group</th>\n",
              "      <th>Response</th>\n",
              "    </tr>\n",
              "  </thead>\n",
              "  <tbody>\n",
              "    <tr>\n",
              "      <th>0</th>\n",
              "      <td>Elder</td>\n",
              "      <td>14.912281</td>\n",
              "    </tr>\n",
              "    <tr>\n",
              "      <th>1</th>\n",
              "      <td>Young Adult</td>\n",
              "      <td>16.289593</td>\n",
              "    </tr>\n",
              "    <tr>\n",
              "      <th>2</th>\n",
              "      <td>middle-aged</td>\n",
              "      <td>14.699793</td>\n",
              "    </tr>\n",
              "  </tbody>\n",
              "</table>\n",
              "</div>\n",
              "    <div class=\"colab-df-buttons\">\n",
              "\n",
              "  <div class=\"colab-df-container\">\n",
              "    <button class=\"colab-df-convert\" onclick=\"convertToInteractive('df-65f56268-fd57-4d29-9a02-d4bdb6d20307')\"\n",
              "            title=\"Convert this dataframe to an interactive table.\"\n",
              "            style=\"display:none;\">\n",
              "\n",
              "  <svg xmlns=\"http://www.w3.org/2000/svg\" height=\"24px\" viewBox=\"0 -960 960 960\">\n",
              "    <path d=\"M120-120v-720h720v720H120Zm60-500h600v-160H180v160Zm220 220h160v-160H400v160Zm0 220h160v-160H400v160ZM180-400h160v-160H180v160Zm440 0h160v-160H620v160ZM180-180h160v-160H180v160Zm440 0h160v-160H620v160Z\"/>\n",
              "  </svg>\n",
              "    </button>\n",
              "\n",
              "  <style>\n",
              "    .colab-df-container {\n",
              "      display:flex;\n",
              "      gap: 12px;\n",
              "    }\n",
              "\n",
              "    .colab-df-convert {\n",
              "      background-color: #E8F0FE;\n",
              "      border: none;\n",
              "      border-radius: 50%;\n",
              "      cursor: pointer;\n",
              "      display: none;\n",
              "      fill: #1967D2;\n",
              "      height: 32px;\n",
              "      padding: 0 0 0 0;\n",
              "      width: 32px;\n",
              "    }\n",
              "\n",
              "    .colab-df-convert:hover {\n",
              "      background-color: #E2EBFA;\n",
              "      box-shadow: 0px 1px 2px rgba(60, 64, 67, 0.3), 0px 1px 3px 1px rgba(60, 64, 67, 0.15);\n",
              "      fill: #174EA6;\n",
              "    }\n",
              "\n",
              "    .colab-df-buttons div {\n",
              "      margin-bottom: 4px;\n",
              "    }\n",
              "\n",
              "    [theme=dark] .colab-df-convert {\n",
              "      background-color: #3B4455;\n",
              "      fill: #D2E3FC;\n",
              "    }\n",
              "\n",
              "    [theme=dark] .colab-df-convert:hover {\n",
              "      background-color: #434B5C;\n",
              "      box-shadow: 0px 1px 3px 1px rgba(0, 0, 0, 0.15);\n",
              "      filter: drop-shadow(0px 1px 2px rgba(0, 0, 0, 0.3));\n",
              "      fill: #FFFFFF;\n",
              "    }\n",
              "  </style>\n",
              "\n",
              "    <script>\n",
              "      const buttonEl =\n",
              "        document.querySelector('#df-65f56268-fd57-4d29-9a02-d4bdb6d20307 button.colab-df-convert');\n",
              "      buttonEl.style.display =\n",
              "        google.colab.kernel.accessAllowed ? 'block' : 'none';\n",
              "\n",
              "      async function convertToInteractive(key) {\n",
              "        const element = document.querySelector('#df-65f56268-fd57-4d29-9a02-d4bdb6d20307');\n",
              "        const dataTable =\n",
              "          await google.colab.kernel.invokeFunction('convertToInteractive',\n",
              "                                                    [key], {});\n",
              "        if (!dataTable) return;\n",
              "\n",
              "        const docLinkHtml = 'Like what you see? Visit the ' +\n",
              "          '<a target=\"_blank\" href=https://colab.research.google.com/notebooks/data_table.ipynb>data table notebook</a>'\n",
              "          + ' to learn more about interactive tables.';\n",
              "        element.innerHTML = '';\n",
              "        dataTable['output_type'] = 'display_data';\n",
              "        await google.colab.output.renderOutput(dataTable, element);\n",
              "        const docLink = document.createElement('div');\n",
              "        docLink.innerHTML = docLinkHtml;\n",
              "        element.appendChild(docLink);\n",
              "      }\n",
              "    </script>\n",
              "  </div>\n",
              "\n",
              "\n",
              "<div id=\"df-9b1bb062-277d-42de-9bc3-97091efa7253\">\n",
              "  <button class=\"colab-df-quickchart\" onclick=\"quickchart('df-9b1bb062-277d-42de-9bc3-97091efa7253')\"\n",
              "            title=\"Suggest charts\"\n",
              "            style=\"display:none;\">\n",
              "\n",
              "<svg xmlns=\"http://www.w3.org/2000/svg\" height=\"24px\"viewBox=\"0 0 24 24\"\n",
              "     width=\"24px\">\n",
              "    <g>\n",
              "        <path d=\"M19 3H5c-1.1 0-2 .9-2 2v14c0 1.1.9 2 2 2h14c1.1 0 2-.9 2-2V5c0-1.1-.9-2-2-2zM9 17H7v-7h2v7zm4 0h-2V7h2v10zm4 0h-2v-4h2v4z\"/>\n",
              "    </g>\n",
              "</svg>\n",
              "  </button>\n",
              "\n",
              "<style>\n",
              "  .colab-df-quickchart {\n",
              "      --bg-color: #E8F0FE;\n",
              "      --fill-color: #1967D2;\n",
              "      --hover-bg-color: #E2EBFA;\n",
              "      --hover-fill-color: #174EA6;\n",
              "      --disabled-fill-color: #AAA;\n",
              "      --disabled-bg-color: #DDD;\n",
              "  }\n",
              "\n",
              "  [theme=dark] .colab-df-quickchart {\n",
              "      --bg-color: #3B4455;\n",
              "      --fill-color: #D2E3FC;\n",
              "      --hover-bg-color: #434B5C;\n",
              "      --hover-fill-color: #FFFFFF;\n",
              "      --disabled-bg-color: #3B4455;\n",
              "      --disabled-fill-color: #666;\n",
              "  }\n",
              "\n",
              "  .colab-df-quickchart {\n",
              "    background-color: var(--bg-color);\n",
              "    border: none;\n",
              "    border-radius: 50%;\n",
              "    cursor: pointer;\n",
              "    display: none;\n",
              "    fill: var(--fill-color);\n",
              "    height: 32px;\n",
              "    padding: 0;\n",
              "    width: 32px;\n",
              "  }\n",
              "\n",
              "  .colab-df-quickchart:hover {\n",
              "    background-color: var(--hover-bg-color);\n",
              "    box-shadow: 0 1px 2px rgba(60, 64, 67, 0.3), 0 1px 3px 1px rgba(60, 64, 67, 0.15);\n",
              "    fill: var(--button-hover-fill-color);\n",
              "  }\n",
              "\n",
              "  .colab-df-quickchart-complete:disabled,\n",
              "  .colab-df-quickchart-complete:disabled:hover {\n",
              "    background-color: var(--disabled-bg-color);\n",
              "    fill: var(--disabled-fill-color);\n",
              "    box-shadow: none;\n",
              "  }\n",
              "\n",
              "  .colab-df-spinner {\n",
              "    border: 2px solid var(--fill-color);\n",
              "    border-color: transparent;\n",
              "    border-bottom-color: var(--fill-color);\n",
              "    animation:\n",
              "      spin 1s steps(1) infinite;\n",
              "  }\n",
              "\n",
              "  @keyframes spin {\n",
              "    0% {\n",
              "      border-color: transparent;\n",
              "      border-bottom-color: var(--fill-color);\n",
              "      border-left-color: var(--fill-color);\n",
              "    }\n",
              "    20% {\n",
              "      border-color: transparent;\n",
              "      border-left-color: var(--fill-color);\n",
              "      border-top-color: var(--fill-color);\n",
              "    }\n",
              "    30% {\n",
              "      border-color: transparent;\n",
              "      border-left-color: var(--fill-color);\n",
              "      border-top-color: var(--fill-color);\n",
              "      border-right-color: var(--fill-color);\n",
              "    }\n",
              "    40% {\n",
              "      border-color: transparent;\n",
              "      border-right-color: var(--fill-color);\n",
              "      border-top-color: var(--fill-color);\n",
              "    }\n",
              "    60% {\n",
              "      border-color: transparent;\n",
              "      border-right-color: var(--fill-color);\n",
              "    }\n",
              "    80% {\n",
              "      border-color: transparent;\n",
              "      border-right-color: var(--fill-color);\n",
              "      border-bottom-color: var(--fill-color);\n",
              "    }\n",
              "    90% {\n",
              "      border-color: transparent;\n",
              "      border-bottom-color: var(--fill-color);\n",
              "    }\n",
              "  }\n",
              "</style>\n",
              "\n",
              "  <script>\n",
              "    async function quickchart(key) {\n",
              "      const quickchartButtonEl =\n",
              "        document.querySelector('#' + key + ' button');\n",
              "      quickchartButtonEl.disabled = true;  // To prevent multiple clicks.\n",
              "      quickchartButtonEl.classList.add('colab-df-spinner');\n",
              "      try {\n",
              "        const charts = await google.colab.kernel.invokeFunction(\n",
              "            'suggestCharts', [key], {});\n",
              "      } catch (error) {\n",
              "        console.error('Error during call to suggestCharts:', error);\n",
              "      }\n",
              "      quickchartButtonEl.classList.remove('colab-df-spinner');\n",
              "      quickchartButtonEl.classList.add('colab-df-quickchart-complete');\n",
              "    }\n",
              "    (() => {\n",
              "      let quickchartButtonEl =\n",
              "        document.querySelector('#df-9b1bb062-277d-42de-9bc3-97091efa7253 button');\n",
              "      quickchartButtonEl.style.display =\n",
              "        google.colab.kernel.accessAllowed ? 'block' : 'none';\n",
              "    })();\n",
              "  </script>\n",
              "</div>\n",
              "    </div>\n",
              "  </div>\n"
            ],
            "application/vnd.google.colaboratory.intrinsic+json": {
              "type": "dataframe",
              "variable_name": "conversion_rates",
              "summary": "{\n  \"name\": \"conversion_rates\",\n  \"rows\": 3,\n  \"fields\": [\n    {\n      \"column\": \"age_group\",\n      \"properties\": {\n        \"dtype\": \"string\",\n        \"num_unique_values\": 3,\n        \"samples\": [\n          \"Elder\",\n          \"Young Adult\",\n          \"middle-aged\"\n        ],\n        \"semantic_type\": \"\",\n        \"description\": \"\"\n      }\n    },\n    {\n      \"column\": \"Response\",\n      \"properties\": {\n        \"dtype\": \"number\",\n        \"std\": 0.8630954899807468,\n        \"min\": 14.699792960662524,\n        \"max\": 16.289592760180994,\n        \"num_unique_values\": 3,\n        \"samples\": [\n          14.912280701754385,\n          16.289592760180994,\n          14.699792960662524\n        ],\n        \"semantic_type\": \"\",\n        \"description\": \"\"\n      }\n    }\n  ]\n}"
            }
          },
          "metadata": {},
          "execution_count": 15
        }
      ]
    },
    {
      "cell_type": "code",
      "source": [
        "#plotting conversion rate by age group\n",
        "plt.figure(figsize=(10, 6))\n",
        "sns.barplot(x='age_group', y='Response', data=conversion_rates, palette='Set2')\n",
        "plt.title('Conversion Rate by Age Group')\n",
        "plt.xlabel('Age Group')\n",
        "plt.ylabel('Conversion Rate (%)')\n",
        "plt.show()"
      ],
      "metadata": {
        "colab": {
          "base_uri": "https://localhost:8080/",
          "height": 601
        },
        "id": "7t2V0TDmbduN",
        "outputId": "fb05ede4-ae45-4f3b-9120-b3cfc68cf448"
      },
      "execution_count": 16,
      "outputs": [
        {
          "output_type": "display_data",
          "data": {
            "text/plain": [
              "<Figure size 1000x600 with 1 Axes>"
            ],
            "image/png": "[encoded data removed]"
          },
          "metadata": {}
        }
      ]
    },
    {
      "cell_type": "markdown",
      "source": [
        "From the chart, it's clear that the 'Young Adult' group boasts the highest conversion rate. This indicates that customers under 40 years old are significantly more responsive to our campaign efforts compared to other age groups."
      ],
      "metadata": {
        "id": "93FnVSngdHxG"
      }
    },
    {
      "cell_type": "markdown",
      "source": [
        "## Income vs Response"
      ],
      "metadata": {
        "id": "5HEipRHv6uH4"
      }
    },
    {
      "cell_type": "markdown",
      "source": [
        "We want to see how the income give effect to the marketing response"
      ],
      "metadata": {
        "id": "G6sjrTqL_YCV"
      }
    },
    {
      "cell_type": "code",
      "source": [
        "#Filtering the data\n",
        "data_response = data[data['Response']==1]"
      ],
      "metadata": {
        "id": "joNx-jUS99eA"
      },
      "execution_count": 17,
      "outputs": []
    },
    {
      "cell_type": "code",
      "source": [
        "data['Income'].describe()"
      ],
      "metadata": {
        "colab": {
          "base_uri": "https://localhost:8080/"
        },
        "id": "6TxKrZdl829l",
        "outputId": "cd392e92-5583-4d49-ae2a-0a17a076d691"
      },
      "execution_count": 18,
      "outputs": [
        {
          "output_type": "execute_result",
          "data": {
            "text/plain": [
              "count    2.216000e+03\n",
              "mean     5.224725e+07\n",
              "std      2.517308e+07\n",
              "min      1.730000e+06\n",
              "25%      3.530300e+07\n",
              "50%      5.138150e+07\n",
              "75%      6.852200e+07\n",
              "max      6.666660e+08\n",
              "Name: Income, dtype: float64"
            ]
          },
          "metadata": {},
          "execution_count": 18
        }
      ]
    },
    {
      "cell_type": "code",
      "source": [
        "plt.figure(figsize=(8, 6))\n",
        "plt.scatter(data_response['Income'], data_response['Response'], alpha=0.5)\n",
        "plt.title('Income vs Response')\n",
        "plt.xlabel('Income')\n",
        "plt.ylabel('Response')\n",
        "plt.xlim(0, max(data['Income']) * 1.1)\n",
        "plt.grid(True)\n",
        "plt.show()"
      ],
      "metadata": {
        "colab": {
          "base_uri": "https://localhost:8080/",
          "height": 601
        },
        "id": "a3g3OWEY6poE",
        "outputId": "e0dfd7dd-a00c-42be-c7df-082c8234e404"
      },
      "execution_count": 19,
      "outputs": [
        {
          "output_type": "display_data",
          "data": {
            "text/plain": [
              "<Figure size 800x600 with 1 Axes>"
            ],
            "image/png": "[encoded data removed]"
          },
          "metadata": {}
        }
      ]
    },
    {
      "cell_type": "markdown",
      "source": [
        "Interestingly, the scatter plot reveals a compelling trend: individuals with an income **below 100 million** demonstrate a notably **higher responsiveness** to our campaign initiatives. This insightful observation underscores the potential effectiveness of targeting this demographic, offering valuable strategic insights for optimizing future marketing endeavors."
      ],
      "metadata": {
        "id": "ag8Jc5E2-mwb"
      }
    },
    {
      "cell_type": "markdown",
      "source": [
        "# Data Preprocessing"
      ],
      "metadata": {
        "id": "X0MRQIbIEsE6"
      }
    },
    {
      "cell_type": "code",
      "source": [
        "#check missing value for each column\n",
        "data.isnull().sum()"
      ],
      "metadata": {
        "colab": {
          "base_uri": "https://localhost:8080/"
        },
        "id": "Jsr689boEwoQ",
        "outputId": "f02195b3-91c3-4e87-eb0d-53def9845f63"
      },
      "execution_count": 20,
      "outputs": [
        {
          "output_type": "execute_result",
          "data": {
            "text/plain": [
              "Unnamed: 0              0\n",
              "ID                      0\n",
              "Year_Birth              0\n",
              "Education               0\n",
              "Marital_Status          0\n",
              "Income                 24\n",
              "Kidhome                 0\n",
              "Teenhome                0\n",
              "Dt_Customer             0\n",
              "Recency                 0\n",
              "MntCoke                 0\n",
              "MntFruits               0\n",
              "MntMeatProducts         0\n",
              "MntFishProducts         0\n",
              "MntSweetProducts        0\n",
              "MntGoldProds            0\n",
              "NumDealsPurchases       0\n",
              "NumWebPurchases         0\n",
              "NumCatalogPurchases     0\n",
              "NumStorePurchases       0\n",
              "NumWebVisitsMonth       0\n",
              "AcceptedCmp3            0\n",
              "AcceptedCmp4            0\n",
              "AcceptedCmp5            0\n",
              "AcceptedCmp1            0\n",
              "AcceptedCmp2            0\n",
              "Complain                0\n",
              "Z_CostContact           0\n",
              "Z_Revenue               0\n",
              "Response                0\n",
              "age                     0\n",
              "age_group               0\n",
              "dtype: int64"
            ]
          },
          "metadata": {},
          "execution_count": 20
        }
      ]
    },
    {
      "cell_type": "markdown",
      "source": [
        "Identifying **24 missing values** within the **'Income'** feature, we aim to address this gap by imputing the mean income value. This approach ensures a comprehensive dataset for analysis, allowing for more robust insights into customer behavior and campaign effectiveness"
      ],
      "metadata": {
        "id": "PA4jsd67FRNi"
      }
    },
    {
      "cell_type": "code",
      "source": [
        "data_new = data"
      ],
      "metadata": {
        "id": "7TWht7DDMbb5"
      },
      "execution_count": 21,
      "outputs": []
    },
    {
      "cell_type": "code",
      "source": [
        "#Fill value null with mean of the income data\n",
        "data_new['Income'] = data_new['Income'].fillna(data_new['Income'].mean())"
      ],
      "metadata": {
        "id": "zSXltY-dGyST"
      },
      "execution_count": 22,
      "outputs": []
    },
    {
      "cell_type": "code",
      "source": [
        "#remove column ID\n",
        "data_new = data.drop(columns='ID')"
      ],
      "metadata": {
        "id": "n2xOKB0-Mg3r"
      },
      "execution_count": 23,
      "outputs": []
    },
    {
      "cell_type": "code",
      "source": [
        "duplicate_rows = data_new.duplicated()\n",
        "\n",
        "# To get the actual duplicate rows, you can use boolean indexing\n",
        "duplicate_rows_df = data_new[duplicate_rows]\n",
        "\n",
        "# To count the number of duplicate rows\n",
        "num_duplicates = duplicate_rows.sum()\n",
        "print(num_duplicates)"
      ],
      "metadata": {
        "colab": {
          "base_uri": "https://localhost:8080/"
        },
        "id": "f4D95xSNL3p1",
        "outputId": "0c86b04a-fae9-4339-aa0b-ed2e613101cc"
      },
      "execution_count": 24,
      "outputs": [
        {
          "output_type": "stream",
          "name": "stdout",
          "text": [
            "0\n"
          ]
        }
      ]
    },
    {
      "cell_type": "code",
      "source": [
        "cats_types = ['object']\n",
        "nums_types = ['int64', 'float64']\n",
        "nums = data_new.select_dtypes(include = nums_types)\n",
        "cats = data_new.select_dtypes(include = cats_types)"
      ],
      "metadata": {
        "id": "TAYJujfjIHHA"
      },
      "execution_count": 25,
      "outputs": []
    },
    {
      "cell_type": "code",
      "source": [
        "numericals = nums.columns"
      ],
      "metadata": {
        "id": "KSIu8Oe4I_hi"
      },
      "execution_count": 26,
      "outputs": []
    },
    {
      "cell_type": "code",
      "source": [
        "features = numericals\n",
        "\n",
        "# Calculate the number of rows and columns needed for subplots\n",
        "num_rows = 3\n",
        "num_cols = len(features) // num_rows + (len(features) % num_rows > 0)\n",
        "\n",
        "plt.figure(figsize=(15, 10))\n",
        "\n",
        "for i in range(len(features)):\n",
        "    plt.subplot(num_rows, num_cols, i+1)\n",
        "    sns.boxplot(y=data[features[i]], color='green', orient='v')\n",
        "    plt.tight_layout()\n",
        "\n",
        "plt.show()"
      ],
      "metadata": {
        "colab": {
          "base_uri": "https://localhost:8080/",
          "height": 995
        },
        "id": "wjuTqY2wHhbp",
        "outputId": "704168d5-8b3e-41f2-afa8-bd919d84988b"
      },
      "execution_count": 27,
      "outputs": [
        {
          "output_type": "display_data",
          "data": {
            "text/plain": [
              "<Figure size 1500x1000 with 27 Axes>"
            ],
            "image/png": "[encoded data removed]"
          },
          "metadata": {}
        }
      ]
    },
    {
      "cell_type": "markdown",
      "source": [
        "From the plot above, We identify there are outlier in some columns, such as **Income, MntCoke, MntFruit, MntMeatProducts, MntFishProduct,MntGoldProducts,NumDealsPurchases,NumbWebPurchases,NumCatalogPurchases,NumbWebVisitMonth and Age**. Considering the number of outliers that exist from the columns we've mentioned. We decide to only remove outliers from column **Income, Age, NumDealsPurchases, NumCatalogPurchases, and NumbWebVisitsMonth**."
      ],
      "metadata": {
        "id": "9rLvdvNTLCXX"
      }
    },
    {
      "cell_type": "code",
      "source": [
        "data2 = data_new"
      ],
      "metadata": {
        "id": "luOdhTCyiGET"
      },
      "execution_count": 28,
      "outputs": []
    },
    {
      "cell_type": "code",
      "source": [
        "# Removing outliers using Z-Score\n",
        "from scipy import stats\n",
        "\n",
        "print(f'Jumlah baris sebelum memfilter outlier {len(data2)}')\n",
        "\n",
        "\n",
        "for col in ['Income','NumDealsPurchases','NumWebPurchases','NumCatalogPurchases','NumWebVisitsMonth']:\n",
        "    zscore = np.abs(stats.zscore(data2[col]))\n",
        "    filtered_entries = (zscore < 3)\n",
        "\n",
        "data2 = data2[filtered_entries]\n",
        "\n",
        "print(f'Jumlah baris setelah memfilter outlier: {len(data2)}')"
      ],
      "metadata": {
        "colab": {
          "base_uri": "https://localhost:8080/"
        },
        "id": "6ZJNChuJetJL",
        "outputId": "e3fab224-bbfb-4c5c-b674-74bf417be9ff"
      },
      "execution_count": 29,
      "outputs": [
        {
          "output_type": "stream",
          "name": "stdout",
          "text": [
            "Jumlah baris sebelum memfilter outlier 2240\n",
            "Jumlah baris setelah memfilter outlier: 2231\n"
          ]
        }
      ]
    },
    {
      "cell_type": "code",
      "source": [
        "data2.info()"
      ],
      "metadata": {
        "colab": {
          "base_uri": "https://localhost:8080/"
        },
        "id": "R5V7utwuwWkQ",
        "outputId": "458528b9-26e7-48a0-87b6-c586438c075e"
      },
      "execution_count": 50,
      "outputs": [
        {
          "output_type": "stream",
          "name": "stdout",
          "text": [
            "<class 'pandas.core.frame.DataFrame'>\n",
            "Index: 2240 entries, 0 to 2214\n",
            "Data columns (total 37 columns):\n",
            " #   Column                      Non-Null Count  Dtype  \n",
            "---  ------                      --------------  -----  \n",
            " 0   Unnamed: 0                  2231 non-null   float64\n",
            " 1   Year_Birth                  2231 non-null   float64\n",
            " 2   Education                   2231 non-null   object \n",
            " 3   Marital_Status              2231 non-null   object \n",
            " 4   Income                      2231 non-null   float64\n",
            " 5   Kidhome                     2231 non-null   float64\n",
            " 6   Teenhome                    2231 non-null   float64\n",
            " 7   Recency                     2231 non-null   float64\n",
            " 8   MntCoke                     2231 non-null   float64\n",
            " 9   MntFruits                   2231 non-null   float64\n",
            " 10  MntMeatProducts             2231 non-null   float64\n",
            " 11  MntFishProducts             2231 non-null   float64\n",
            " 12  MntSweetProducts            2231 non-null   float64\n",
            " 13  MntGoldProds                2231 non-null   float64\n",
            " 14  NumDealsPurchases           2231 non-null   float64\n",
            " 15  NumWebPurchases             2231 non-null   float64\n",
            " 16  NumCatalogPurchases         2231 non-null   float64\n",
            " 17  NumStorePurchases           2231 non-null   float64\n",
            " 18  NumWebVisitsMonth           2231 non-null   float64\n",
            " 19  AcceptedCmp3                2231 non-null   float64\n",
            " 20  AcceptedCmp4                2231 non-null   float64\n",
            " 21  AcceptedCmp5                2231 non-null   float64\n",
            " 22  AcceptedCmp1                2231 non-null   float64\n",
            " 23  AcceptedCmp2                2231 non-null   float64\n",
            " 24  Complain                    2231 non-null   float64\n",
            " 25  Z_CostContact               2231 non-null   float64\n",
            " 26  Z_Revenue                   2231 non-null   float64\n",
            " 27  Response                    2231 non-null   float64\n",
            " 28  age                         2231 non-null   float64\n",
            " 29  age_group                   2231 non-null   object \n",
            " 30  Encoded_education           2231 non-null   float64\n",
            " 31  Marital_Status_Bertunangan  2231 non-null   float64\n",
            " 32  Marital_Status_Cerai        2231 non-null   float64\n",
            " 33  Marital_Status_Duda         2231 non-null   float64\n",
            " 34  Marital_Status_Janda        2231 non-null   float64\n",
            " 35  Marital_Status_Lajang       2231 non-null   float64\n",
            " 36  Marital_Status_Menikah      2231 non-null   float64\n",
            "dtypes: float64(34), object(3)\n",
            "memory usage: 665.0+ KB\n"
          ]
        }
      ]
    },
    {
      "cell_type": "code",
      "source": [
        "#remove dt_customer\n",
        "data2 = data2.drop(columns='Dt_Customer')"
      ],
      "metadata": {
        "id": "E-qtcRFZpB7K"
      },
      "execution_count": 30,
      "outputs": []
    },
    {
      "cell_type": "code",
      "source": [
        "cats.columns"
      ],
      "metadata": {
        "colab": {
          "base_uri": "https://localhost:8080/"
        },
        "id": "7o1lsbT5mGAF",
        "outputId": "06c89f3c-9e32-47f6-fde8-c52d6bbe32bc"
      },
      "execution_count": 31,
      "outputs": [
        {
          "output_type": "execute_result",
          "data": {
            "text/plain": [
              "Index(['Education', 'Marital_Status', 'Dt_Customer', 'age_group'], dtype='object')"
            ]
          },
          "metadata": {},
          "execution_count": 31
        }
      ]
    },
    {
      "cell_type": "code",
      "source": [
        "#check number of type education\n",
        "data2['Education'].value_counts()"
      ],
      "metadata": {
        "colab": {
          "base_uri": "https://localhost:8080/"
        },
        "id": "lhpoFBSimitt",
        "outputId": "743a7c46-a4fc-41bf-ac18-b620a32ae699"
      },
      "execution_count": 32,
      "outputs": [
        {
          "output_type": "execute_result",
          "data": {
            "text/plain": [
              "Education\n",
              "S1     1122\n",
              "S3      483\n",
              "S2      369\n",
              "D3      203\n",
              "SMA      54\n",
              "Name: count, dtype: int64"
            ]
          },
          "metadata": {},
          "execution_count": 32
        }
      ]
    },
    {
      "cell_type": "code",
      "source": [
        "from sklearn.preprocessing import OrdinalEncoder"
      ],
      "metadata": {
        "id": "WD-e8GeSaoX4"
      },
      "execution_count": 33,
      "outputs": []
    },
    {
      "cell_type": "code",
      "source": [
        "#reshape the data to arrya 2d\n",
        "education_data = np.array(data2['Education']).reshape(-1, 1)\n",
        "education_encoder = OrdinalEncoder(categories=[['SMA', 'D3', 'S1','S2','S3']]) #\n",
        "\n",
        "encoded_education = education_encoder.fit_transform(education_data)\n",
        "print(encoded_education)"
      ],
      "metadata": {
        "colab": {
          "base_uri": "https://localhost:8080/"
        },
        "id": "pEbuA91KaiLu",
        "outputId": "82503c1a-3143-466a-c829-0ee2e4344f41"
      },
      "execution_count": 34,
      "outputs": [
        {
          "output_type": "stream",
          "name": "stdout",
          "text": [
            "[[2.]\n",
            " [2.]\n",
            " [2.]\n",
            " ...\n",
            " [2.]\n",
            " [3.]\n",
            " [4.]]\n"
          ]
        }
      ]
    },
    {
      "cell_type": "code",
      "source": [
        "#Merge the encoded data to train data\n",
        "data2['Encoded_education'] = encoded_education"
      ],
      "metadata": {
        "id": "QBp1fGC0b04g"
      },
      "execution_count": 35,
      "outputs": []
    },
    {
      "cell_type": "code",
      "source": [
        "from sklearn.preprocessing import OneHotEncoder"
      ],
      "metadata": {
        "id": "5b9v_E2ddH7f"
      },
      "execution_count": 36,
      "outputs": []
    },
    {
      "cell_type": "code",
      "source": [
        "#check number of type Marital_status\n",
        "data2['Marital_Status'].value_counts()"
      ],
      "metadata": {
        "colab": {
          "base_uri": "https://localhost:8080/"
        },
        "id": "k6hZ_f0xmqs-",
        "outputId": "1d3b5883-c402-4a3b-c7cc-2909d24ae733"
      },
      "execution_count": 37,
      "outputs": [
        {
          "output_type": "execute_result",
          "data": {
            "text/plain": [
              "Marital_Status\n",
              "Menikah        862\n",
              "Bertunangan    578\n",
              "Lajang         481\n",
              "Cerai          230\n",
              "Janda           77\n",
              "Duda             3\n",
              "Name: count, dtype: int64"
            ]
          },
          "metadata": {},
          "execution_count": 37
        }
      ]
    },
    {
      "cell_type": "code",
      "source": [
        "onehot_encoder = OneHotEncoder()\n",
        "marital_status_data = np.array(data2['Marital_Status']).reshape(-1, 1)\n",
        "encoded_data = onehot_encoder.fit_transform(marital_status_data)\n",
        "encoded_ms = pd.DataFrame(encoded_data.toarray(), columns=onehot_encoder.get_feature_names_out(['Marital_Status']))\n",
        "data2 = pd.concat([data2, encoded_ms], axis=1)"
      ],
      "metadata": {
        "id": "3CZc4RDddkTN"
      },
      "execution_count": 38,
      "outputs": []
    },
    {
      "cell_type": "code",
      "source": [
        "data2['age_group'].value_counts()"
      ],
      "metadata": {
        "colab": {
          "base_uri": "https://localhost:8080/"
        },
        "id": "_Wrv4EBdm4Z1",
        "outputId": "f76d1aeb-7e97-4d4e-bb80-d27aa2840268"
      },
      "execution_count": 39,
      "outputs": [
        {
          "output_type": "execute_result",
          "data": {
            "text/plain": [
              "age_group\n",
              "middle-aged    1443\n",
              "Elder           568\n",
              "Young Adult     220\n",
              "Name: count, dtype: int64"
            ]
          },
          "metadata": {},
          "execution_count": 39
        }
      ]
    },
    {
      "cell_type": "code",
      "source": [
        "data2['age_group'].isnull().sum()"
      ],
      "metadata": {
        "colab": {
          "base_uri": "https://localhost:8080/"
        },
        "id": "EiqTtSjTvMgh",
        "outputId": "031379e5-dbcd-4ee3-8efd-79f61ef91ddf"
      },
      "execution_count": 60,
      "outputs": [
        {
          "output_type": "execute_result",
          "data": {
            "text/plain": [
              "9"
            ]
          },
          "metadata": {},
          "execution_count": 60
        }
      ]
    },
    {
      "cell_type": "code",
      "source": [
        "data2 = data2.dropna()"
      ],
      "metadata": {
        "id": "Iy02DRDuzN1D"
      },
      "execution_count": 62,
      "outputs": []
    },
    {
      "cell_type": "code",
      "source": [
        "#reshape the data to arrya 2d\n",
        "age_group_data = np.array(data2['age_group']).reshape(-1, 1)\n",
        "age_group_encoder = OrdinalEncoder(categories=[['Young Adult','middle-aged','Elder']]) #ordering the ordinal data\n",
        "\n",
        "encoded_age_group = age_group_encoder.fit_transform(age_group_data)\n",
        "print(encoded_age_group)"
      ],
      "metadata": {
        "colab": {
          "base_uri": "https://localhost:8080/"
        },
        "id": "duEDevz6tv8t",
        "outputId": "96d81e6f-1244-4e57-fe34-47b34d4bf3d0"
      },
      "execution_count": 63,
      "outputs": [
        {
          "output_type": "stream",
          "name": "stdout",
          "text": [
            "[[2.]\n",
            " [2.]\n",
            " [1.]\n",
            " ...\n",
            " [1.]\n",
            " [1.]\n",
            " [1.]]\n"
          ]
        }
      ]
    },
    {
      "cell_type": "code",
      "source": [
        "data2['Encoded_age_group'] = encoded_age_group"
      ],
      "metadata": {
        "id": "hq2dneXA6jaj"
      },
      "execution_count": 64,
      "outputs": []
    },
    {
      "cell_type": "code",
      "source": [
        "data2.head()"
      ],
      "metadata": {
        "colab": {
          "base_uri": "https://localhost:8080/",
          "height": 296
        },
        "id": "rLXtwx7T7mTx",
        "outputId": "0076c6b9-4c54-4ed5-a849-0ed3b33edab6"
      },
      "execution_count": 65,
      "outputs": [
        {
          "output_type": "execute_result",
          "data": {
            "text/plain": [
              "   Unnamed: 0  Year_Birth Education Marital_Status      Income  Kidhome  \\\n",
              "0         0.0      1957.0        S1         Lajang  58138000.0      0.0   \n",
              "1         1.0      1954.0        S1         Lajang  46344000.0      1.0   \n",
              "2         2.0      1965.0        S1    Bertunangan  71613000.0      0.0   \n",
              "3         3.0      1984.0        S1    Bertunangan  26646000.0      1.0   \n",
              "4         4.0      1981.0        S3        Menikah  58293000.0      1.0   \n",
              "\n",
              "   Teenhome  Recency   MntCoke  MntFruits  MntMeatProducts  MntFishProducts  \\\n",
              "0       0.0     58.0  635000.0    88000.0         546000.0         172000.0   \n",
              "1       1.0     38.0   11000.0     1000.0           6000.0           2000.0   \n",
              "2       0.0     26.0  426000.0    49000.0         127000.0         111000.0   \n",
              "3       0.0     26.0   11000.0     4000.0          20000.0          10000.0   \n",
              "4       0.0     94.0  173000.0    43000.0         118000.0          46000.0   \n",
              "\n",
              "   MntSweetProducts  MntGoldProds  NumDealsPurchases  NumWebPurchases  \\\n",
              "0           88000.0       88000.0                3.0              8.0   \n",
              "1            1000.0        6000.0                2.0              1.0   \n",
              "2           21000.0       42000.0                1.0              8.0   \n",
              "3            3000.0        5000.0                2.0              2.0   \n",
              "4           27000.0       15000.0                5.0              5.0   \n",
              "\n",
              "   NumCatalogPurchases  NumStorePurchases  NumWebVisitsMonth  AcceptedCmp3  \\\n",
              "0                 10.0                4.0                7.0           0.0   \n",
              "1                  1.0                2.0                5.0           0.0   \n",
              "2                  2.0               10.0                4.0           0.0   \n",
              "3                  0.0                4.0                6.0           0.0   \n",
              "4                  3.0                6.0                5.0           0.0   \n",
              "\n",
              "   AcceptedCmp4  AcceptedCmp5  AcceptedCmp1  AcceptedCmp2  Complain  \\\n",
              "0           0.0           0.0           0.0           0.0       0.0   \n",
              "1           0.0           0.0           0.0           0.0       0.0   \n",
              "2           0.0           0.0           0.0           0.0       0.0   \n",
              "3           0.0           0.0           0.0           0.0       0.0   \n",
              "4           0.0           0.0           0.0           0.0       0.0   \n",
              "\n",
              "   Z_CostContact  Z_Revenue  Response   age    age_group  Encoded_education  \\\n",
              "0            3.0       11.0       1.0  67.0        Elder                2.0   \n",
              "1            3.0       11.0       0.0  70.0        Elder                2.0   \n",
              "2            3.0       11.0       0.0  59.0  middle-aged                2.0   \n",
              "3            3.0       11.0       0.0  40.0  middle-aged                2.0   \n",
              "4            3.0       11.0       0.0  43.0  middle-aged                4.0   \n",
              "\n",
              "   Marital_Status_Bertunangan  Marital_Status_Cerai  Marital_Status_Duda  \\\n",
              "0                         0.0                   0.0                  0.0   \n",
              "1                         0.0                   0.0                  0.0   \n",
              "2                         1.0                   0.0                  0.0   \n",
              "3                         1.0                   0.0                  0.0   \n",
              "4                         0.0                   0.0                  0.0   \n",
              "\n",
              "   Marital_Status_Janda  Marital_Status_Lajang  Marital_Status_Menikah  \\\n",
              "0                   0.0                    1.0                     0.0   \n",
              "1                   0.0                    1.0                     0.0   \n",
              "2                   0.0                    0.0                     0.0   \n",
              "3                   0.0                    0.0                     0.0   \n",
              "4                   0.0                    0.0                     1.0   \n",
              "\n",
              "   Encoded_age_group  \n",
              "0                2.0  \n",
              "1                2.0  \n",
              "2                1.0  \n",
              "3                1.0  \n",
              "4                1.0  "
            ],
            "text/html": [
              "\n",
              "  <div id=\"df-6cfd15c8-bf91-44e5-a831-f57fcc81008d\" class=\"colab-df-container\">\n",
              "    <div>\n",
              "<style scoped>\n",
              "    .dataframe tbody tr th:only-of-type {\n",
              "        vertical-align: middle;\n",
              "    }\n",
              "\n",
              "    .dataframe tbody tr th {\n",
              "        vertical-align: top;\n",
              "    }\n",
              "\n",
              "    .dataframe thead th {\n",
              "        text-align: right;\n",
              "    }\n",
              "</style>\n",
              "<table border=\"1\" class=\"dataframe\">\n",
              "  <thead>\n",
              "    <tr style=\"text-align: right;\">\n",
              "      <th></th>\n",
              "      <th>Unnamed: 0</th>\n",
              "      <th>Year_Birth</th>\n",
              "      <th>Education</th>\n",
              "      <th>Marital_Status</th>\n",
              "      <th>Income</th>\n",
              "      <th>Kidhome</th>\n",
              "      <th>Teenhome</th>\n",
              "      <th>Recency</th>\n",
              "      <th>MntCoke</th>\n",
              "      <th>MntFruits</th>\n",
              "      <th>MntMeatProducts</th>\n",
              "      <th>MntFishProducts</th>\n",
              "      <th>MntSweetProducts</th>\n",
              "      <th>MntGoldProds</th>\n",
              "      <th>NumDealsPurchases</th>\n",
              "      <th>NumWebPurchases</th>\n",
              "      <th>NumCatalogPurchases</th>\n",
              "      <th>NumStorePurchases</th>\n",
              "      <th>NumWebVisitsMonth</th>\n",
              "      <th>AcceptedCmp3</th>\n",
              "      <th>AcceptedCmp4</th>\n",
              "      <th>AcceptedCmp5</th>\n",
              "      <th>AcceptedCmp1</th>\n",
              "      <th>AcceptedCmp2</th>\n",
              "      <th>Complain</th>\n",
              "      <th>Z_CostContact</th>\n",
              "      <th>Z_Revenue</th>\n",
              "      <th>Response</th>\n",
              "      <th>age</th>\n",
              "      <th>age_group</th>\n",
              "      <th>Encoded_education</th>\n",
              "      <th>Marital_Status_Bertunangan</th>\n",
              "      <th>Marital_Status_Cerai</th>\n",
              "      <th>Marital_Status_Duda</th>\n",
              "      <th>Marital_Status_Janda</th>\n",
              "      <th>Marital_Status_Lajang</th>\n",
              "      <th>Marital_Status_Menikah</th>\n",
              "      <th>Encoded_age_group</th>\n",
              "    </tr>\n",
              "  </thead>\n",
              "  <tbody>\n",
              "    <tr>\n",
              "      <th>0</th>\n",
              "      <td>0.0</td>\n",
              "      <td>1957.0</td>\n",
              "      <td>S1</td>\n",
              "      <td>Lajang</td>\n",
              "      <td>58138000.0</td>\n",
              "      <td>0.0</td>\n",
              "      <td>0.0</td>\n",
              "      <td>58.0</td>\n",
              "      <td>635000.0</td>\n",
              "      <td>88000.0</td>\n",
              "      <td>546000.0</td>\n",
              "      <td>172000.0</td>\n",
              "      <td>88000.0</td>\n",
              "      <td>88000.0</td>\n",
              "      <td>3.0</td>\n",
              "      <td>8.0</td>\n",
              "      <td>10.0</td>\n",
              "      <td>4.0</td>\n",
              "      <td>7.0</td>\n",
              "      <td>0.0</td>\n",
              "      <td>0.0</td>\n",
              "      <td>0.0</td>\n",
              "      <td>0.0</td>\n",
              "      <td>0.0</td>\n",
              "      <td>0.0</td>\n",
              "      <td>3.0</td>\n",
              "      <td>11.0</td>\n",
              "      <td>1.0</td>\n",
              "      <td>67.0</td>\n",
              "      <td>Elder</td>\n",
              "      <td>2.0</td>\n",
              "      <td>0.0</td>\n",
              "      <td>0.0</td>\n",
              "      <td>0.0</td>\n",
              "      <td>0.0</td>\n",
              "      <td>1.0</td>\n",
              "      <td>0.0</td>\n",
              "      <td>2.0</td>\n",
              "    </tr>\n",
              "    <tr>\n",
              "      <th>1</th>\n",
              "      <td>1.0</td>\n",
              "      <td>1954.0</td>\n",
              "      <td>S1</td>\n",
              "      <td>Lajang</td>\n",
              "      <td>46344000.0</td>\n",
              "      <td>1.0</td>\n",
              "      <td>1.0</td>\n",
              "      <td>38.0</td>\n",
              "      <td>11000.0</td>\n",
              "      <td>1000.0</td>\n",
              "      <td>6000.0</td>\n",
              "      <td>2000.0</td>\n",
              "      <td>1000.0</td>\n",
              "      <td>6000.0</td>\n",
              "      <td>2.0</td>\n",
              "      <td>1.0</td>\n",
              "      <td>1.0</td>\n",
              "      <td>2.0</td>\n",
              "      <td>5.0</td>\n",
              "      <td>0.0</td>\n",
              "      <td>0.0</td>\n",
              "      <td>0.0</td>\n",
              "      <td>0.0</td>\n",
              "      <td>0.0</td>\n",
              "      <td>0.0</td>\n",
              "      <td>3.0</td>\n",
              "      <td>11.0</td>\n",
              "      <td>0.0</td>\n",
              "      <td>70.0</td>\n",
              "      <td>Elder</td>\n",
              "      <td>2.0</td>\n",
              "      <td>0.0</td>\n",
              "      <td>0.0</td>\n",
              "      <td>0.0</td>\n",
              "      <td>0.0</td>\n",
              "      <td>1.0</td>\n",
              "      <td>0.0</td>\n",
              "      <td>2.0</td>\n",
              "    </tr>\n",
              "    <tr>\n",
              "      <th>2</th>\n",
              "      <td>2.0</td>\n",
              "      <td>1965.0</td>\n",
              "      <td>S1</td>\n",
              "      <td>Bertunangan</td>\n",
              "      <td>71613000.0</td>\n",
              "      <td>0.0</td>\n",
              "      <td>0.0</td>\n",
              "      <td>26.0</td>\n",
              "      <td>426000.0</td>\n",
              "      <td>49000.0</td>\n",
              "      <td>127000.0</td>\n",
              "      <td>111000.0</td>\n",
              "      <td>21000.0</td>\n",
              "      <td>42000.0</td>\n",
              "      <td>1.0</td>\n",
              "      <td>8.0</td>\n",
              "      <td>2.0</td>\n",
              "      <td>10.0</td>\n",
              "      <td>4.0</td>\n",
              "      <td>0.0</td>\n",
              "      <td>0.0</td>\n",
              "      <td>0.0</td>\n",
              "      <td>0.0</td>\n",
              "      <td>0.0</td>\n",
              "      <td>0.0</td>\n",
              "      <td>3.0</td>\n",
              "      <td>11.0</td>\n",
              "      <td>0.0</td>\n",
              "      <td>59.0</td>\n",
              "      <td>middle-aged</td>\n",
              "      <td>2.0</td>\n",
              "      <td>1.0</td>\n",
              "      <td>0.0</td>\n",
              "      <td>0.0</td>\n",
              "      <td>0.0</td>\n",
              "      <td>0.0</td>\n",
              "      <td>0.0</td>\n",
              "      <td>1.0</td>\n",
              "    </tr>\n",
              "    <tr>\n",
              "      <th>3</th>\n",
              "      <td>3.0</td>\n",
              "      <td>1984.0</td>\n",
              "      <td>S1</td>\n",
              "      <td>Bertunangan</td>\n",
              "      <td>26646000.0</td>\n",
              "      <td>1.0</td>\n",
              "      <td>0.0</td>\n",
              "      <td>26.0</td>\n",
              "      <td>11000.0</td>\n",
              "      <td>4000.0</td>\n",
              "      <td>20000.0</td>\n",
              "      <td>10000.0</td>\n",
              "      <td>3000.0</td>\n",
              "      <td>5000.0</td>\n",
              "      <td>2.0</td>\n",
              "      <td>2.0</td>\n",
              "      <td>0.0</td>\n",
              "      <td>4.0</td>\n",
              "      <td>6.0</td>\n",
              "      <td>0.0</td>\n",
              "      <td>0.0</td>\n",
              "      <td>0.0</td>\n",
              "      <td>0.0</td>\n",
              "      <td>0.0</td>\n",
              "      <td>0.0</td>\n",
              "      <td>3.0</td>\n",
              "      <td>11.0</td>\n",
              "      <td>0.0</td>\n",
              "      <td>40.0</td>\n",
              "      <td>middle-aged</td>\n",
              "      <td>2.0</td>\n",
              "      <td>1.0</td>\n",
              "      <td>0.0</td>\n",
              "      <td>0.0</td>\n",
              "      <td>0.0</td>\n",
              "      <td>0.0</td>\n",
              "      <td>0.0</td>\n",
              "      <td>1.0</td>\n",
              "    </tr>\n",
              "    <tr>\n",
              "      <th>4</th>\n",
              "      <td>4.0</td>\n",
              "      <td>1981.0</td>\n",
              "      <td>S3</td>\n",
              "      <td>Menikah</td>\n",
              "      <td>58293000.0</td>\n",
              "      <td>1.0</td>\n",
              "      <td>0.0</td>\n",
              "      <td>94.0</td>\n",
              "      <td>173000.0</td>\n",
              "      <td>43000.0</td>\n",
              "      <td>118000.0</td>\n",
              "      <td>46000.0</td>\n",
              "      <td>27000.0</td>\n",
              "      <td>15000.0</td>\n",
              "      <td>5.0</td>\n",
              "      <td>5.0</td>\n",
              "      <td>3.0</td>\n",
              "      <td>6.0</td>\n",
              "      <td>5.0</td>\n",
              "      <td>0.0</td>\n",
              "      <td>0.0</td>\n",
              "      <td>0.0</td>\n",
              "      <td>0.0</td>\n",
              "      <td>0.0</td>\n",
              "      <td>0.0</td>\n",
              "      <td>3.0</td>\n",
              "      <td>11.0</td>\n",
              "      <td>0.0</td>\n",
              "      <td>43.0</td>\n",
              "      <td>middle-aged</td>\n",
              "      <td>4.0</td>\n",
              "      <td>0.0</td>\n",
              "      <td>0.0</td>\n",
              "      <td>0.0</td>\n",
              "      <td>0.0</td>\n",
              "      <td>0.0</td>\n",
              "      <td>1.0</td>\n",
              "      <td>1.0</td>\n",
              "    </tr>\n",
              "  </tbody>\n",
              "</table>\n",
              "</div>\n",
              "    <div class=\"colab-df-buttons\">\n",
              "\n",
              "  <div class=\"colab-df-container\">\n",
              "    <button class=\"colab-df-convert\" onclick=\"convertToInteractive('df-6cfd15c8-bf91-44e5-a831-f57fcc81008d')\"\n",
              "            title=\"Convert this dataframe to an interactive table.\"\n",
              "            style=\"display:none;\">\n",
              "\n",
              "  <svg xmlns=\"http://www.w3.org/2000/svg\" height=\"24px\" viewBox=\"0 -960 960 960\">\n",
              "    <path d=\"M120-120v-720h720v720H120Zm60-500h600v-160H180v160Zm220 220h160v-160H400v160Zm0 220h160v-160H400v160ZM180-400h160v-160H180v160Zm440 0h160v-160H620v160ZM180-180h160v-160H180v160Zm440 0h160v-160H620v160Z\"/>\n",
              "  </svg>\n",
              "    </button>\n",
              "\n",
              "  <style>\n",
              "    .colab-df-container {\n",
              "      display:flex;\n",
              "      gap: 12px;\n",
              "    }\n",
              "\n",
              "    .colab-df-convert {\n",
              "      background-color: #E8F0FE;\n",
              "      border: none;\n",
              "      border-radius: 50%;\n",
              "      cursor: pointer;\n",
              "      display: none;\n",
              "      fill: #1967D2;\n",
              "      height: 32px;\n",
              "      padding: 0 0 0 0;\n",
              "      width: 32px;\n",
              "    }\n",
              "\n",
              "    .colab-df-convert:hover {\n",
              "      background-color: #E2EBFA;\n",
              "      box-shadow: 0px 1px 2px rgba(60, 64, 67, 0.3), 0px 1px 3px 1px rgba(60, 64, 67, 0.15);\n",
              "      fill: #174EA6;\n",
              "    }\n",
              "\n",
              "    .colab-df-buttons div {\n",
              "      margin-bottom: 4px;\n",
              "    }\n",
              "\n",
              "    [theme=dark] .colab-df-convert {\n",
              "      background-color: #3B4455;\n",
              "      fill: #D2E3FC;\n",
              "    }\n",
              "\n",
              "    [theme=dark] .colab-df-convert:hover {\n",
              "      background-color: #434B5C;\n",
              "      box-shadow: 0px 1px 3px 1px rgba(0, 0, 0, 0.15);\n",
              "      filter: drop-shadow(0px 1px 2px rgba(0, 0, 0, 0.3));\n",
              "      fill: #FFFFFF;\n",
              "    }\n",
              "  </style>\n",
              "\n",
              "    <script>\n",
              "      const buttonEl =\n",
              "        document.querySelector('#df-6cfd15c8-bf91-44e5-a831-f57fcc81008d button.colab-df-convert');\n",
              "      buttonEl.style.display =\n",
              "        google.colab.kernel.accessAllowed ? 'block' : 'none';\n",
              "\n",
              "      async function convertToInteractive(key) {\n",
              "        const element = document.querySelector('#df-6cfd15c8-bf91-44e5-a831-f57fcc81008d');\n",
              "        const dataTable =\n",
              "          await google.colab.kernel.invokeFunction('convertToInteractive',\n",
              "                                                    [key], {});\n",
              "        if (!dataTable) return;\n",
              "\n",
              "        const docLinkHtml = 'Like what you see? Visit the ' +\n",
              "          '<a target=\"_blank\" href=https://colab.research.google.com/notebooks/data_table.ipynb>data table notebook</a>'\n",
              "          + ' to learn more about interactive tables.';\n",
              "        element.innerHTML = '';\n",
              "        dataTable['output_type'] = 'display_data';\n",
              "        await google.colab.output.renderOutput(dataTable, element);\n",
              "        const docLink = document.createElement('div');\n",
              "        docLink.innerHTML = docLinkHtml;\n",
              "        element.appendChild(docLink);\n",
              "      }\n",
              "    </script>\n",
              "  </div>\n",
              "\n",
              "\n",
              "<div id=\"df-9be63883-3ae1-44eb-bb07-6d8fa2a47aeb\">\n",
              "  <button class=\"colab-df-quickchart\" onclick=\"quickchart('df-9be63883-3ae1-44eb-bb07-6d8fa2a47aeb')\"\n",
              "            title=\"Suggest charts\"\n",
              "            style=\"display:none;\">\n",
              "\n",
              "<svg xmlns=\"http://www.w3.org/2000/svg\" height=\"24px\"viewBox=\"0 0 24 24\"\n",
              "     width=\"24px\">\n",
              "    <g>\n",
              "        <path d=\"M19 3H5c-1.1 0-2 .9-2 2v14c0 1.1.9 2 2 2h14c1.1 0 2-.9 2-2V5c0-1.1-.9-2-2-2zM9 17H7v-7h2v7zm4 0h-2V7h2v10zm4 0h-2v-4h2v4z\"/>\n",
              "    </g>\n",
              "</svg>\n",
              "  </button>\n",
              "\n",
              "<style>\n",
              "  .colab-df-quickchart {\n",
              "      --bg-color: #E8F0FE;\n",
              "      --fill-color: #1967D2;\n",
              "      --hover-bg-color: #E2EBFA;\n",
              "      --hover-fill-color: #174EA6;\n",
              "      --disabled-fill-color: #AAA;\n",
              "      --disabled-bg-color: #DDD;\n",
              "  }\n",
              "\n",
              "  [theme=dark] .colab-df-quickchart {\n",
              "      --bg-color: #3B4455;\n",
              "      --fill-color: #D2E3FC;\n",
              "      --hover-bg-color: #434B5C;\n",
              "      --hover-fill-color: #FFFFFF;\n",
              "      --disabled-bg-color: #3B4455;\n",
              "      --disabled-fill-color: #666;\n",
              "  }\n",
              "\n",
              "  .colab-df-quickchart {\n",
              "    background-color: var(--bg-color);\n",
              "    border: none;\n",
              "    border-radius: 50%;\n",
              "    cursor: pointer;\n",
              "    display: none;\n",
              "    fill: var(--fill-color);\n",
              "    height: 32px;\n",
              "    padding: 0;\n",
              "    width: 32px;\n",
              "  }\n",
              "\n",
              "  .colab-df-quickchart:hover {\n",
              "    background-color: var(--hover-bg-color);\n",
              "    box-shadow: 0 1px 2px rgba(60, 64, 67, 0.3), 0 1px 3px 1px rgba(60, 64, 67, 0.15);\n",
              "    fill: var(--button-hover-fill-color);\n",
              "  }\n",
              "\n",
              "  .colab-df-quickchart-complete:disabled,\n",
              "  .colab-df-quickchart-complete:disabled:hover {\n",
              "    background-color: var(--disabled-bg-color);\n",
              "    fill: var(--disabled-fill-color);\n",
              "    box-shadow: none;\n",
              "  }\n",
              "\n",
              "  .colab-df-spinner {\n",
              "    border: 2px solid var(--fill-color);\n",
              "    border-color: transparent;\n",
              "    border-bottom-color: var(--fill-color);\n",
              "    animation:\n",
              "      spin 1s steps(1) infinite;\n",
              "  }\n",
              "\n",
              "  @keyframes spin {\n",
              "    0% {\n",
              "      border-color: transparent;\n",
              "      border-bottom-color: var(--fill-color);\n",
              "      border-left-color: var(--fill-color);\n",
              "    }\n",
              "    20% {\n",
              "      border-color: transparent;\n",
              "      border-left-color: var(--fill-color);\n",
              "      border-top-color: var(--fill-color);\n",
              "    }\n",
              "    30% {\n",
              "      border-color: transparent;\n",
              "      border-left-color: var(--fill-color);\n",
              "      border-top-color: var(--fill-color);\n",
              "      border-right-color: var(--fill-color);\n",
              "    }\n",
              "    40% {\n",
              "      border-color: transparent;\n",
              "      border-right-color: var(--fill-color);\n",
              "      border-top-color: var(--fill-color);\n",
              "    }\n",
              "    60% {\n",
              "      border-color: transparent;\n",
              "      border-right-color: var(--fill-color);\n",
              "    }\n",
              "    80% {\n",
              "      border-color: transparent;\n",
              "      border-right-color: var(--fill-color);\n",
              "      border-bottom-color: var(--fill-color);\n",
              "    }\n",
              "    90% {\n",
              "      border-color: transparent;\n",
              "      border-bottom-color: var(--fill-color);\n",
              "    }\n",
              "  }\n",
              "</style>\n",
              "\n",
              "  <script>\n",
              "    async function quickchart(key) {\n",
              "      const quickchartButtonEl =\n",
              "        document.querySelector('#' + key + ' button');\n",
              "      quickchartButtonEl.disabled = true;  // To prevent multiple clicks.\n",
              "      quickchartButtonEl.classList.add('colab-df-spinner');\n",
              "      try {\n",
              "        const charts = await google.colab.kernel.invokeFunction(\n",
              "            'suggestCharts', [key], {});\n",
              "      } catch (error) {\n",
              "        console.error('Error during call to suggestCharts:', error);\n",
              "      }\n",
              "      quickchartButtonEl.classList.remove('colab-df-spinner');\n",
              "      quickchartButtonEl.classList.add('colab-df-quickchart-complete');\n",
              "    }\n",
              "    (() => {\n",
              "      let quickchartButtonEl =\n",
              "        document.querySelector('#df-9be63883-3ae1-44eb-bb07-6d8fa2a47aeb button');\n",
              "      quickchartButtonEl.style.display =\n",
              "        google.colab.kernel.accessAllowed ? 'block' : 'none';\n",
              "    })();\n",
              "  </script>\n",
              "</div>\n",
              "    </div>\n",
              "  </div>\n"
            ],
            "application/vnd.google.colaboratory.intrinsic+json": {
              "type": "dataframe",
              "variable_name": "data2"
            }
          },
          "metadata": {},
          "execution_count": 65
        }
      ]
    },
    {
      "cell_type": "code",
      "source": [
        "#filtering feature\n",
        "#data_x = data2[['Income','Kidhome','Teenhome','Recency','MntCoke','MntFruits','MntMeatProducts','MntSweetProducts','MntGoldProds','NumDealsPurchases','NumWebPurchases','NumCatalogPurchases','NumStorePurchases','NumWebVisitsMonth',]]\n",
        "\n",
        "data_x = data2.drop(columns= ['Education', 'Marital_Status', 'age_group'])"
      ],
      "metadata": {
        "id": "udeuHbHG7G45"
      },
      "execution_count": 68,
      "outputs": []
    },
    {
      "cell_type": "code",
      "source": [
        "from sklearn.preprocessing import StandardScaler\n",
        "ss = StandardScaler()\n",
        "\n",
        "numerical_features = data_x.columns.to_list()\n",
        "for n in numerical_features:\n",
        "  scaler = ss.fit(data_x[[n]])\n",
        "  data_x[n] = scaler.transform(data_x[[n]])"
      ],
      "metadata": {
        "id": "6n90kevp4gE4"
      },
      "execution_count": 69,
      "outputs": []
    },
    {
      "cell_type": "code",
      "source": [
        "from sklearn.model_selection import train_test_split\n",
        "X_train, X_test = train_test_split(data_x, test_size=0.3, random_state=42)"
      ],
      "metadata": {
        "id": "f5x7Qwzj9DbB"
      },
      "execution_count": 70,
      "outputs": []
    },
    {
      "cell_type": "code",
      "source": [],
      "metadata": {
        "id": "S2x2BQyM9VMp"
      },
      "execution_count": null,
      "outputs": []
    }
  ]
}